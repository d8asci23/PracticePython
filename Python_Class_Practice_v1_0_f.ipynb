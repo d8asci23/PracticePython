{
  "nbformat": 4,
  "nbformat_minor": 0,
  "metadata": {
    "colab": {
      "name": "Python Class Practice v1.0_f.ipynb",
      "provenance": [],
      "collapsed_sections": [],
      "authorship_tag": "ABX9TyNutFm58mFBDj8uyFAFiGNS",
      "include_colab_link": true
    },
    "kernelspec": {
      "name": "python3",
      "display_name": "Python 3"
    }
  },
  "cells": [
    {
      "cell_type": "markdown",
      "metadata": {
        "id": "view-in-github",
        "colab_type": "text"
      },
      "source": [
        "<a href=\"https://colab.research.google.com/github/gy23/PracticePython/blob/master/Python_Class_Practice_v1_0_f.ipynb\" target=\"_parent\"><img src=\"https://colab.research.google.com/assets/colab-badge.svg\" alt=\"Open In Colab\"/></a>"
      ]
    },
    {
      "cell_type": "code",
      "metadata": {
        "id": "ZYzioBl2abMS",
        "colab_type": "code",
        "colab": {}
      },
      "source": [
        "## Making a class\n",
        "class HouseHwang:\n",
        "  lastname = \"Hwang\"\n",
        "  def __init__(self, firstname):\n",
        "    self.fullname = firstname +\" \"+ self.lastname\n",
        "\n",
        "  def travel(self, where):\n",
        "    print(\"{0} is going to travel to {1}\".format(self.fullname, where))\n",
        "\n",
        "  def love(self, other):\n",
        "    print(\"{0} fell in love with {1}\".format(self.fullname, other.fullname))\n",
        "  \n",
        "  # Overloading (+, *)\n",
        "  def __add__(self, other): \n",
        "    print(\"{0} got married with {1}\".format(self.fullname, other.fullname))\n",
        "  \n",
        "  def __mul__(self, other):\n",
        "    print(\"{0} and {1} have a baby\".format(self.fullname, other.fullname))\n"
      ],
      "execution_count": 0,
      "outputs": []
    },
    {
      "cell_type": "code",
      "metadata": {
        "id": "c0MIrvXwatFI",
        "colab_type": "code",
        "colab": {}
      },
      "source": [
        "## Inheritance (another class)\n",
        "class HouseKim(HouseHwang):\n",
        "  lastname = \"Kim\"\n",
        "  def travel(self, where, day):\n",
        "    print(\"{0} is going to travel to {1} for {2}\".format(self.fullname, where, day))"
      ],
      "execution_count": 0,
      "outputs": []
    },
    {
      "cell_type": "code",
      "metadata": {
        "id": "eZQgRVv8b6as",
        "colab_type": "code",
        "outputId": "722accac-e7b0-41e6-98b0-59cb214b1603",
        "colab": {
          "base_uri": "https://localhost:8080/",
          "height": 102
        }
      },
      "source": [
        "jiwan = HouseHwang(\"Jiwan\")\n",
        "joyce = HouseKim(\"Joyce\")\n",
        "jiwan.travel(\"New York\")\n",
        "joyce.travel(\"New York\", 3)\n",
        "jiwan.love(joyce)\n",
        "jiwan + joyce\n",
        "jiwan * joyce"
      ],
      "execution_count": 3,
      "outputs": [
        {
          "output_type": "stream",
          "text": [
            "Jiwan Hwang is going to travel to New York\n",
            "Joyce Kim is going to travel to New York for 3\n",
            "Jiwan Hwang fell in love with Joyce Kim\n",
            "Jiwan Hwang got married with Joyce Kim\n",
            "Jiwan Hwang and Joyce Kim have a baby\n"
          ],
          "name": "stdout"
        }
      ]
    }
  ]
}