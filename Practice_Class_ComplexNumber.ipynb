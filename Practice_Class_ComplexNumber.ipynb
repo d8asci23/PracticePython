{
 "cells": [
  {
   "cell_type": "code",
   "execution_count": 22,
   "metadata": {},
   "outputs": [
    {
     "name": "stdout",
     "output_type": "stream",
     "text": [
      "-2 - 3j\n",
      "4 + 7j\n",
      "-7 + 11j\n",
      "4\n",
      "2.23606797749979\n",
      "5\n"
     ]
    }
   ],
   "source": [
    "import math\n",
    "class ComplexNumber:\n",
    "    def __init__(self, real, img):\n",
    "        self.real = real\n",
    "        self.img = img\n",
    "    \n",
    "    def __add__(self, cn):\n",
    "        return ComplexNumber(self.real + cn.real, self.img + cn.img)\n",
    "    \n",
    "    def __sub__(self, cn):\n",
    "        return ComplexNumber(self.real - cn.real, self.img - cn.img)\n",
    "    \n",
    "    def __mul__(self, x):\n",
    "        if type(x) == int:\n",
    "            return ComplexNumber(self.real * x, self.img *x)\n",
    "        elif type(x) == ComplexNumber:\n",
    "            return ComplexNumber(self.real * x.real - self.img * x.img, self.real * x.img + self.img * x.real)\n",
    "    \n",
    "    def __str__(self):\n",
    "        if self.img >= 0:\n",
    "            return '{} + {}j'.format(self.real, self.img)\n",
    "        else:\n",
    "            return '{} - {}j'.format(self.real, abs(self.img))\n",
    "    \n",
    "    def __eq__(self, cn):\n",
    "        return self.real == cn.real and self.img == cn.img\n",
    "    \n",
    "    def __ne__(self, cn):\n",
    "        return not(self.real == cn.real and self.img == cn.img)\n",
    "    \n",
    "    def __abs__(self):\n",
    "        return math.sqrt(self.real ** 2 + self.img ** 2)\n",
    "    \n",
    "    def __len__(self): #len => int so no sqrt\n",
    "        return self.real ** 2 + self.img ** 2\n",
    "    \n",
    "a = ComplexNumber(1, 2)\n",
    "b = ComplexNumber(3, 5)\n",
    "print(a - b)\n",
    "print(a + b)\n",
    "print(a * b)\n",
    "\n",
    "print(abs(-4))\n",
    "print(abs(a))\n",
    "print(len(a))"
   ]
  },
  {
   "cell_type": "code",
   "execution_count": 17,
   "metadata": {},
   "outputs": [
    {
     "name": "stdout",
     "output_type": "stream",
     "text": [
      "True\n",
      "False\n"
     ]
    }
   ],
   "source": [
    "a = ComplexNumber(1, 2)\n",
    "b = ComplexNumber(1, 2)\n",
    "\n",
    "#__eq__\n",
    "print(a == b)\n",
    "#__ne__\n",
    "print(a != b)"
   ]
  }
 ],
 "metadata": {
  "kernelspec": {
   "display_name": "Python 3",
   "language": "python",
   "name": "python3"
  },
  "language_info": {
   "codemirror_mode": {
    "name": "ipython",
    "version": 3
   },
   "file_extension": ".py",
   "mimetype": "text/x-python",
   "name": "python",
   "nbconvert_exporter": "python",
   "pygments_lexer": "ipython3",
   "version": "3.7.6"
  }
 },
 "nbformat": 4,
 "nbformat_minor": 4
}
