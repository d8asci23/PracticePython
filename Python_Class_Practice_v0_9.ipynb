{
  "nbformat": 4,
  "nbformat_minor": 0,
  "metadata": {
    "colab": {
      "name": "Python Class Practice v0.9.ipynb",
      "provenance": [],
      "collapsed_sections": [],
      "authorship_tag": "ABX9TyOjPvFDNRzqcpk3Zg0yKC3H",
      "include_colab_link": true
    },
    "kernelspec": {
      "name": "python3",
      "display_name": "Python 3"
    }
  },
  "cells": [
    {
      "cell_type": "markdown",
      "metadata": {
        "id": "view-in-github",
        "colab_type": "text"
      },
      "source": [
        "<a href=\"https://colab.research.google.com/github/gy23/PracticePython/blob/master/Python_Class_Practice_v0_9.ipynb\" target=\"_parent\"><img src=\"https://colab.research.google.com/assets/colab-badge.svg\" alt=\"Open In Colab\"/></a>"
      ]
    },
    {
      "cell_type": "code",
      "metadata": {
        "id": "PnaSzkJC2HTo",
        "colab_type": "code",
        "colab": {}
      },
      "source": [
        "class FourCal():\n",
        "  def setdata(self, a, b):\n",
        "    self.a = a\n",
        "    self.b = b\n",
        "\n",
        "  def sum(self):\n",
        "    result = self.a + self.b\n",
        "    return result\n",
        "  \n",
        "  def sub(self):\n",
        "    result = self.a - self.b\n",
        "    return result\n",
        "  \n",
        "  def mul(self):\n",
        "    result = self.a * self.b\n",
        "    return result\n",
        "\n",
        "  def div(self):\n",
        "    result = self.a / self.b\n",
        "    return result  \n",
        "\n"
      ],
      "execution_count": 0,
      "outputs": []
    },
    {
      "cell_type": "code",
      "metadata": {
        "id": "taR-bHvMVK_Q",
        "colab_type": "code",
        "colab": {}
      },
      "source": [
        "a = FourCal()"
      ],
      "execution_count": 0,
      "outputs": []
    },
    {
      "cell_type": "code",
      "metadata": {
        "id": "I6qXqCNCVO5i",
        "colab_type": "code",
        "colab": {}
      },
      "source": [
        "a.setdata(4,5)"
      ],
      "execution_count": 0,
      "outputs": []
    },
    {
      "cell_type": "code",
      "metadata": {
        "id": "FVQrXuG8VREn",
        "colab_type": "code",
        "colab": {
          "base_uri": "https://localhost:8080/",
          "height": 85
        },
        "outputId": "e56661f9-c7cf-4a08-9da6-7063b6a359fd"
      },
      "source": [
        "print(a.sum())\n",
        "print(a.sub())\n",
        "print(a.mul())\n",
        "print(a.div())"
      ],
      "execution_count": 4,
      "outputs": [
        {
          "output_type": "stream",
          "text": [
            "9\n",
            "-1\n",
            "20\n",
            "0.8\n"
          ],
          "name": "stdout"
        }
      ]
    },
    {
      "cell_type": "code",
      "metadata": {
        "id": "UIDCJSafVkSF",
        "colab_type": "code",
        "colab": {
          "base_uri": "https://localhost:8080/",
          "height": 34
        },
        "outputId": "8db5e832-eba9-4e93-8bfb-8776162e4f66"
      },
      "source": [
        "a.sub()"
      ],
      "execution_count": 5,
      "outputs": [
        {
          "output_type": "execute_result",
          "data": {
            "text/plain": [
              "-1"
            ]
          },
          "metadata": {
            "tags": []
          },
          "execution_count": 5
        }
      ]
    },
    {
      "cell_type": "code",
      "metadata": {
        "id": "ULoCzeM1WDEm",
        "colab_type": "code",
        "colab": {}
      },
      "source": [
        "class FourCalInIt():\n",
        "  def __init__(self, a, b):\n",
        "    self.a = a\n",
        "    self.b = b\n",
        "\n",
        "  def sum(self):\n",
        "    result = self.a + self.b\n",
        "    return result\n",
        "  \n",
        "  def sub(self):\n",
        "    result = self.a - self.b\n",
        "    return result\n",
        "  \n",
        "  def mul(self):\n",
        "    result = self.a * self.b\n",
        "    return result\n",
        "\n",
        "  def div(self):\n",
        "    result = self.a / self.b\n",
        "    return result  "
      ],
      "execution_count": 0,
      "outputs": []
    },
    {
      "cell_type": "code",
      "metadata": {
        "id": "biexo6HPWOph",
        "colab_type": "code",
        "colab": {}
      },
      "source": [
        "b = FourCalInIt(5,10)"
      ],
      "execution_count": 0,
      "outputs": []
    },
    {
      "cell_type": "code",
      "metadata": {
        "id": "72VS2W03WY6W",
        "colab_type": "code",
        "colab": {
          "base_uri": "https://localhost:8080/",
          "height": 85
        },
        "outputId": "954b8d15-3de2-47b0-aa17-b0b352bd0894"
      },
      "source": [
        "print(b.sum())\n",
        "print(b.sub())\n",
        "print(b.mul())\n",
        "print(b.div())"
      ],
      "execution_count": 8,
      "outputs": [
        {
          "output_type": "stream",
          "text": [
            "15\n",
            "-5\n",
            "50\n",
            "0.5\n"
          ],
          "name": "stdout"
        }
      ]
    },
    {
      "cell_type": "code",
      "metadata": {
        "id": "4aZjK90ZWdOv",
        "colab_type": "code",
        "colab": {}
      },
      "source": [
        "class HouseHwang():\n",
        "  lastname = \"Hwang\"\n",
        "  def setname(self, firstname):\n",
        "    self.fullname = firstname +\" \"+self.lastname\n",
        "  def travel(self, where):\n",
        "    print(\"{0} is going to travel to {1}\".format(self.fullname, where)) \n",
        "    "
      ],
      "execution_count": 0,
      "outputs": []
    },
    {
      "cell_type": "code",
      "metadata": {
        "id": "NPebtLu5WfLh",
        "colab_type": "code",
        "colab": {}
      },
      "source": [
        "a = HouseHwang()"
      ],
      "execution_count": 0,
      "outputs": []
    },
    {
      "cell_type": "code",
      "metadata": {
        "id": "pvNHXVECY51P",
        "colab_type": "code",
        "colab": {}
      },
      "source": [
        "a.setname(\"Jiwan\")"
      ],
      "execution_count": 0,
      "outputs": []
    },
    {
      "cell_type": "code",
      "metadata": {
        "id": "Yq_xSFQ9Y9Sm",
        "colab_type": "code",
        "colab": {
          "base_uri": "https://localhost:8080/",
          "height": 34
        },
        "outputId": "eb55c05c-8a19-47f6-a7b2-c039e7b94698"
      },
      "source": [
        "print(a.fullname)"
      ],
      "execution_count": 12,
      "outputs": [
        {
          "output_type": "stream",
          "text": [
            "Jiwan Hwang\n"
          ],
          "name": "stdout"
        }
      ]
    },
    {
      "cell_type": "code",
      "metadata": {
        "id": "gSiaWoqHY_sP",
        "colab_type": "code",
        "colab": {
          "base_uri": "https://localhost:8080/",
          "height": 34
        },
        "outputId": "6fedc0c6-b96a-4a93-e185-d27ba6bc01ee"
      },
      "source": [
        "a.travel(\"Bermuda\")"
      ],
      "execution_count": 13,
      "outputs": [
        {
          "output_type": "stream",
          "text": [
            "Jiwan Hwang is going to travel to Bermuda\n"
          ],
          "name": "stdout"
        }
      ]
    },
    {
      "cell_type": "code",
      "metadata": {
        "id": "SJT2g1ZMZNQ9",
        "colab_type": "code",
        "colab": {}
      },
      "source": [
        "class HouseHwangInIt():\n",
        "  lastname = \"Hwang\"\n",
        "  def __init__(self, firstname):\n",
        "    self.fullname = firstname +\" \"+self.lastname\n",
        "  def travel(self, where):\n",
        "    print(\"{0} is going to travel to {1}\".format(self.fullname, where)) "
      ],
      "execution_count": 0,
      "outputs": []
    },
    {
      "cell_type": "code",
      "metadata": {
        "id": "1Duvk8ZRZUFA",
        "colab_type": "code",
        "colab": {}
      },
      "source": [
        "a2 = HouseHwangInIt(\"Jiwan\")"
      ],
      "execution_count": 0,
      "outputs": []
    },
    {
      "cell_type": "code",
      "metadata": {
        "id": "kDV43Mn4Zdt0",
        "colab_type": "code",
        "colab": {
          "base_uri": "https://localhost:8080/",
          "height": 34
        },
        "outputId": "b270354d-a931-436f-d41d-50c6b4209fb0"
      },
      "source": [
        "a2.fullname"
      ],
      "execution_count": 16,
      "outputs": [
        {
          "output_type": "execute_result",
          "data": {
            "text/plain": [
              "'Jiwan Hwang'"
            ]
          },
          "metadata": {
            "tags": []
          },
          "execution_count": 16
        }
      ]
    },
    {
      "cell_type": "code",
      "metadata": {
        "id": "HVkFwe5ddfIp",
        "colab_type": "code",
        "colab": {
          "base_uri": "https://localhost:8080/",
          "height": 34
        },
        "outputId": "934a7731-351f-4b49-f36e-ac442015bacc"
      },
      "source": [
        "a2.travel(\"New York\")"
      ],
      "execution_count": 17,
      "outputs": [
        {
          "output_type": "stream",
          "text": [
            "Jiwan Hwang is going to travel to New York\n"
          ],
          "name": "stdout"
        }
      ]
    },
    {
      "cell_type": "code",
      "metadata": {
        "id": "EnV6-3CkdjlP",
        "colab_type": "code",
        "colab": {}
      },
      "source": [
        "## Inheritance of Class"
      ],
      "execution_count": 0,
      "outputs": []
    },
    {
      "cell_type": "code",
      "metadata": {
        "id": "13wuZ0_4f1Bj",
        "colab_type": "code",
        "colab": {}
      },
      "source": [
        "class HouseKim(HouseHwangInIt):\n",
        "  lastname = \"Kim\""
      ],
      "execution_count": 0,
      "outputs": []
    },
    {
      "cell_type": "code",
      "metadata": {
        "id": "oLOrqzz1gCPP",
        "colab_type": "code",
        "colab": {}
      },
      "source": [
        "j = HouseKim(\"Joyce\")"
      ],
      "execution_count": 0,
      "outputs": []
    },
    {
      "cell_type": "code",
      "metadata": {
        "id": "llDEkxepgJVj",
        "colab_type": "code",
        "colab": {
          "base_uri": "https://localhost:8080/",
          "height": 34
        },
        "outputId": "07f620cd-c247-4822-83b2-66cb285b64ae"
      },
      "source": [
        "j.travel(\"New York\")"
      ],
      "execution_count": 21,
      "outputs": [
        {
          "output_type": "stream",
          "text": [
            "Joyce Kim is going to travel to New York\n"
          ],
          "name": "stdout"
        }
      ]
    },
    {
      "cell_type": "code",
      "metadata": {
        "id": "A2QH5BhsgQQN",
        "colab_type": "code",
        "colab": {}
      },
      "source": [
        "## Method Overiding"
      ],
      "execution_count": 0,
      "outputs": []
    },
    {
      "cell_type": "code",
      "metadata": {
        "id": "MSCyMGZugZ1b",
        "colab_type": "code",
        "colab": {}
      },
      "source": [
        "class HouseKimMO(HouseHwangInIt):\n",
        "  lastname = \"Kim\"\n",
        "  def travel (self, where, day):\n",
        "    print(\"{0} is going to travel to {1} for {2} days\".format(self.fullname, where, day))"
      ],
      "execution_count": 0,
      "outputs": []
    },
    {
      "cell_type": "code",
      "metadata": {
        "id": "W-U5NcmzgzuB",
        "colab_type": "code",
        "colab": {}
      },
      "source": [
        "j2 = HouseKimMO(\"Joyce\")"
      ],
      "execution_count": 0,
      "outputs": []
    },
    {
      "cell_type": "code",
      "metadata": {
        "id": "YoLgip_Dg7Os",
        "colab_type": "code",
        "colab": {
          "base_uri": "https://localhost:8080/",
          "height": 34
        },
        "outputId": "1bdc1d7b-a23b-4fd1-b760-df56d9f8a7a2"
      },
      "source": [
        "j2.travel(\"New York\", 3)"
      ],
      "execution_count": 25,
      "outputs": [
        {
          "output_type": "stream",
          "text": [
            "Joyce Kim is going to travel to New York for 3 days\n"
          ],
          "name": "stdout"
        }
      ]
    },
    {
      "cell_type": "code",
      "metadata": {
        "id": "DO62g0swg-Gk",
        "colab_type": "code",
        "colab": {}
      },
      "source": [
        "## Overloading (+,-,*,/...)"
      ],
      "execution_count": 0,
      "outputs": []
    },
    {
      "cell_type": "code",
      "metadata": {
        "id": "G03h25WuhRUY",
        "colab_type": "code",
        "colab": {}
      },
      "source": [
        "class HouseHwangOL:\n",
        "  lastname =\"Hwang\"\n",
        "  def __init__(self, firstname):\n",
        "    self.fullname = firstname +\" \"+self.lastname\n",
        "  \n",
        "  def travel(self, where):\n",
        "    print(\"{0} is going to travel to {1}\".format(self.fullname, where)) \n",
        "  \n",
        "  def love(self, other):\n",
        "    print(\"{} fell in love with {}\".format(self.fullname, other.fullname))\n",
        "  \n",
        "  def __add__(self, other):\n",
        "    print(\"{} got married with {}\".format(self.fullname, other.fullname))\n",
        "\n",
        "\n",
        "class HouseKimOL(HouseHwangOL):\n",
        "  lastname = \"Kim\"\n",
        "  def travel(self, where, day):\n",
        "    print(\"{0} is going to travel to {1} for {2} days\".format(self.fullname, where, day))"
      ],
      "execution_count": 0,
      "outputs": []
    },
    {
      "cell_type": "code",
      "metadata": {
        "id": "SmOBVV6ajNev",
        "colab_type": "code",
        "colab": {
          "base_uri": "https://localhost:8080/",
          "height": 51
        },
        "outputId": "6103c517-ca1d-4e2b-81f1-f2c414a71893"
      },
      "source": [
        "jiwan = HouseHwangOL(\"Jiwan\")\n",
        "joyce = HouseKimOL(\"Joyce\")\n",
        "jiwan.love(joyce)\n",
        "jiwan + joyce"
      ],
      "execution_count": 28,
      "outputs": [
        {
          "output_type": "stream",
          "text": [
            "Jiwan Hwang fell in love with Joyce Kim\n",
            "Jiwan Hwang got married with Joyce Kim\n"
          ],
          "name": "stdout"
        }
      ]
    }
  ]
}